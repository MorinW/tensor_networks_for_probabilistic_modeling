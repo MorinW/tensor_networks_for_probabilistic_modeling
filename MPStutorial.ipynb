{
 "cells": [
  {
   "cell_type": "markdown",
   "metadata": {},
   "source": [
    "# Probabilistic modelling with tensor networks\n",
    "Simple notebook explaining how to train a tensor network to represent a dataset."
   ]
  },
  {
   "cell_type": "markdown",
   "metadata": {},
   "source": [
    "First import the dependencies and a tensor network model."
   ]
  },
  {
   "cell_type": "code",
   "execution_count": 68,
   "metadata": {
    "collapsed": false
   },
   "outputs": [],
   "source": [
    "import numpy as np\n",
    "import pickle\n",
    "from tensornetworks.ComplexMPSSquare import ComplexMPSSquare"
   ]
  },
  {
   "cell_type": "markdown",
   "metadata": {},
   "source": [
    "Now load a dataset. A dataset needs to be an integer numpy array."
   ]
  },
  {
   "cell_type": "code",
   "execution_count": 69,
   "metadata": {
    "collapsed": false
   },
   "outputs": [],
   "source": [
    "with open('datasets/lymphography', 'rb') as f:\n",
    "        a=pickle.load(f)\n",
    "X=a[0]\n",
    "X=X.astype(int)"
   ]
  },
  {
   "cell_type": "markdown",
   "metadata": {},
   "source": [
    "Create a MPS model (here we use a complex MPS squared) with bond dimension 2. Specify a learning rate, size of batch and number of epochs of training. Use 'verbose=True' to print the details during training."
   ]
  },
  {
   "cell_type": "code",
   "execution_count": 70,
   "metadata": {
    "collapsed": false
   },
   "outputs": [],
   "source": [
    "mps = ComplexMPSSquare(D=2, learning_rate=0.5, batch_size=20, n_iter=30, verbose=True) "
   ]
  },
  {
   "cell_type": "markdown",
   "metadata": {},
   "source": [
    "Fit the model to the data"
   ]
  },
  {
   "cell_type": "code",
   "execution_count": 71,
   "metadata": {
    "collapsed": false
   },
   "outputs": [
    {
     "name": "stdout",
     "output_type": "stream",
     "text": [
      "[instance] Iteration 1, likelihood = 24.239, time = 0.05s\n",
      "[instance] Iteration 2, likelihood = 20.348, time = 0.05s\n",
      "[instance] Iteration 3, likelihood = 18.589, time = 0.05s\n",
      "[instance] Iteration 4, likelihood = 17.410, time = 0.05s\n",
      "[instance] Iteration 5, likelihood = 16.607, time = 0.05s\n",
      "[instance] Iteration 6, likelihood = 16.233, time = 0.05s\n",
      "[instance] Iteration 7, likelihood = 15.981, time = 0.05s\n",
      "[instance] Iteration 8, likelihood = 15.752, time = 0.05s\n",
      "[instance] Iteration 9, likelihood = 15.674, time = 0.05s\n",
      "[instance] Iteration 10, likelihood = 15.665, time = 0.05s\n",
      "[instance] Iteration 11, likelihood = 15.471, time = 0.07s\n",
      "[instance] Iteration 12, likelihood = 15.237, time = 0.05s\n",
      "[instance] Iteration 13, likelihood = 15.212, time = 0.05s\n",
      "[instance] Iteration 14, likelihood = 15.144, time = 0.05s\n",
      "[instance] Iteration 15, likelihood = 15.087, time = 0.05s\n",
      "[instance] Iteration 16, likelihood = 14.999, time = 0.05s\n",
      "[instance] Iteration 17, likelihood = 15.052, time = 0.05s\n",
      "[instance] Iteration 18, likelihood = 14.904, time = 0.05s\n",
      "[instance] Iteration 19, likelihood = 14.889, time = 0.06s\n",
      "[instance] Iteration 20, likelihood = 14.890, time = 0.06s\n",
      "[instance] Iteration 21, likelihood = 14.832, time = 0.07s\n",
      "[instance] Iteration 22, likelihood = 14.926, time = 0.06s\n",
      "[instance] Iteration 23, likelihood = 14.897, time = 0.06s\n",
      "[instance] Iteration 24, likelihood = 14.787, time = 0.06s\n",
      "[instance] Iteration 25, likelihood = 14.726, time = 0.06s\n",
      "[instance] Iteration 26, likelihood = 14.745, time = 0.05s\n",
      "[instance] Iteration 27, likelihood = 14.788, time = 0.05s\n",
      "[instance] Iteration 28, likelihood = 14.777, time = 0.05s\n",
      "[instance] Iteration 29, likelihood = 14.704, time = 0.05s\n",
      "[instance] Iteration 30, likelihood = 14.665, time = 0.05s\n"
     ]
    },
    {
     "data": {
      "text/plain": [
       "<tensornetworks.ComplexMPSSquare.ComplexMPSSquare instance at 0x0000000006DEA208>"
      ]
     },
     "execution_count": 71,
     "metadata": {},
     "output_type": "execute_result"
    }
   ],
   "source": [
    "mps.fit(X)"
   ]
  },
  {
   "cell_type": "markdown",
   "metadata": {},
   "source": [
    "Finally evaluate the negative log-likelihood of the fitted model."
   ]
  },
  {
   "cell_type": "code",
   "execution_count": 72,
   "metadata": {
    "collapsed": false
   },
   "outputs": [
    {
     "data": {
      "text/plain": [
       "14.664598554679189"
      ]
     },
     "execution_count": 72,
     "metadata": {},
     "output_type": "execute_result"
    }
   ],
   "source": [
    "mps.likelihood(X)"
   ]
  }
 ],
 "metadata": {
  "anaconda-cloud": {},
  "celltoolbar": "Raw Cell Format",
  "kernelspec": {
   "display_name": "Python [conda root]",
   "language": "python",
   "name": "conda-root-py"
  },
  "language_info": {
   "codemirror_mode": {
    "name": "ipython",
    "version": 2
   },
   "file_extension": ".py",
   "mimetype": "text/x-python",
   "name": "python",
   "nbconvert_exporter": "python",
   "pygments_lexer": "ipython2",
   "version": "2.7.13"
  }
 },
 "nbformat": 4,
 "nbformat_minor": 2
}
