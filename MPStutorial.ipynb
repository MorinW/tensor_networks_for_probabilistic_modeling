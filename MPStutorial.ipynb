{
 "cells": [
  {
   "cell_type": "markdown",
   "metadata": {},
   "source": [
    "# Probabilistic modelling with tensor networks\n",
    "Simple notebook explaining how to train a tensor network to represent a dataset."
   ]
  },
  {
   "cell_type": "markdown",
   "metadata": {},
   "source": [
    "First import the dependencies and a tensor network model."
   ]
  },
  {
   "cell_type": "code",
   "execution_count": 27,
   "metadata": {
    "collapsed": false
   },
   "outputs": [],
   "source": [
    "import numpy as np\n",
    "import pickle\n",
    "from tensornetworks.RealBorn import RealBorn"
   ]
  },
  {
   "cell_type": "markdown",
   "metadata": {},
   "source": [
    "Now load a dataset. A dataset needs to be an integer numpy array."
   ]
  },
  {
   "cell_type": "code",
   "execution_count": 28,
   "metadata": {
    "collapsed": false
   },
   "outputs": [],
   "source": [
    "with open('datasets/lymphography', 'rb') as f:\n",
    "        a=pickle.load(f)\n",
    "X=a[0]\n",
    "X=X.astype(int)"
   ]
  },
  {
   "cell_type": "markdown",
   "metadata": {},
   "source": [
    "Create a tensor network model (here we use a real Born machine) with bond dimension 2. Specify a learning rate, size of batch and number of epochs of training. Use 'verbose=True' to print the details during training."
   ]
  },
  {
   "cell_type": "code",
   "execution_count": 29,
   "metadata": {
    "collapsed": false
   },
   "outputs": [],
   "source": [
    "mps = RealBorn(D=2, learning_rate=0.5, batch_size=20, n_iter=30, verbose=True) "
   ]
  },
  {
   "cell_type": "markdown",
   "metadata": {},
   "source": [
    "Fit the model to the data"
   ]
  },
  {
   "cell_type": "code",
   "execution_count": 30,
   "metadata": {
    "collapsed": false
   },
   "outputs": [
    {
     "name": "stdout",
     "output_type": "stream",
     "text": [
      "Iteration 1, likelihood = 23.925, time = 0.03s\n",
      "Iteration 2, likelihood = 19.897, time = 0.04s\n",
      "Iteration 3, likelihood = 18.451, time = 0.04s\n",
      "Iteration 4, likelihood = 17.532, time = 0.04s\n",
      "Iteration 5, likelihood = 17.174, time = 0.04s\n",
      "Iteration 6, likelihood = 17.364, time = 0.04s\n",
      "Iteration 7, likelihood = 16.975, time = 0.05s\n",
      "Iteration 8, likelihood = 16.655, time = 0.04s\n",
      "Iteration 9, likelihood = 16.310, time = 0.04s\n",
      "Iteration 10, likelihood = 16.109, time = 0.04s\n",
      "Iteration 11, likelihood = 16.171, time = 0.04s\n",
      "Iteration 12, likelihood = 16.010, time = 0.05s\n",
      "Iteration 13, likelihood = 15.819, time = 0.04s\n",
      "Iteration 14, likelihood = 15.686, time = 0.04s\n",
      "Iteration 15, likelihood = 15.666, time = 0.04s\n",
      "Iteration 16, likelihood = 15.542, time = 0.04s\n",
      "Iteration 17, likelihood = 15.458, time = 0.05s\n",
      "Iteration 18, likelihood = 15.437, time = 0.05s\n",
      "Iteration 19, likelihood = 15.742, time = 0.04s\n",
      "Iteration 20, likelihood = 15.284, time = 0.04s\n",
      "Iteration 21, likelihood = 15.261, time = 0.04s\n",
      "Iteration 22, likelihood = 15.246, time = 0.04s\n",
      "Iteration 23, likelihood = 15.316, time = 0.05s\n",
      "Iteration 24, likelihood = 15.645, time = 0.04s\n",
      "Iteration 25, likelihood = 15.366, time = 0.04s\n",
      "Iteration 26, likelihood = 15.224, time = 0.05s\n",
      "Iteration 27, likelihood = 15.131, time = 0.07s\n",
      "Iteration 28, likelihood = 15.043, time = 0.06s\n",
      "Iteration 29, likelihood = 15.064, time = 0.06s\n",
      "Iteration 30, likelihood = 15.009, time = 0.09s\n"
     ]
    },
    {
     "data": {
      "text/plain": [
       "<tensornetworks.RealBorn.RealBorn instance at 0x0000000006FE4D08>"
      ]
     },
     "execution_count": 30,
     "metadata": {},
     "output_type": "execute_result"
    }
   ],
   "source": [
    "mps.fit(X)"
   ]
  },
  {
   "cell_type": "markdown",
   "metadata": {},
   "source": [
    "Finally evaluate the negative log-likelihood of the fitted model."
   ]
  },
  {
   "cell_type": "code",
   "execution_count": 31,
   "metadata": {
    "collapsed": false
   },
   "outputs": [
    {
     "data": {
      "text/plain": [
       "15.008961879703032"
      ]
     },
     "execution_count": 31,
     "metadata": {},
     "output_type": "execute_result"
    }
   ],
   "source": [
    "mps.likelihood(X)"
   ]
  },
  {
   "cell_type": "markdown",
   "metadata": {},
   "source": [
    "Now create a tensor network model which is a complex LPS with bond dimension 2 and purification leg of size 2."
   ]
  },
  {
   "cell_type": "code",
   "execution_count": 32,
   "metadata": {
    "collapsed": true
   },
   "outputs": [],
   "source": [
    "from tensornetworks.ComplexLPS import ComplexLPS\n",
    "mps2 = ComplexLPS(D=2, learning_rate=0.5, batch_size=20, n_iter=30, verbose=True, mu=2) "
   ]
  },
  {
   "cell_type": "markdown",
   "metadata": {},
   "source": [
    "Fit the model to the data"
   ]
  },
  {
   "cell_type": "code",
   "execution_count": 33,
   "metadata": {
    "collapsed": false
   },
   "outputs": [
    {
     "name": "stdout",
     "output_type": "stream",
     "text": [
      "Iteration 1, likelihood = 31.645, time = 0.07s\n",
      "Iteration 2, likelihood = 26.259, time = 0.09s\n",
      "Iteration 3, likelihood = 23.031, time = 0.09s\n",
      "Iteration 4, likelihood = 20.984, time = 0.09s\n",
      "Iteration 5, likelihood = 19.692, time = 0.10s\n",
      "Iteration 6, likelihood = 18.721, time = 0.09s\n",
      "Iteration 7, likelihood = 18.041, time = 0.10s\n",
      "Iteration 8, likelihood = 17.455, time = 0.09s\n",
      "Iteration 9, likelihood = 17.065, time = 0.09s\n",
      "Iteration 10, likelihood = 16.773, time = 0.09s\n",
      "Iteration 11, likelihood = 16.513, time = 0.09s\n",
      "Iteration 12, likelihood = 16.315, time = 0.10s\n",
      "Iteration 13, likelihood = 16.210, time = 0.12s\n",
      "Iteration 14, likelihood = 16.053, time = 0.10s\n",
      "Iteration 15, likelihood = 15.892, time = 0.10s\n",
      "Iteration 16, likelihood = 15.810, time = 0.12s\n",
      "Iteration 17, likelihood = 15.740, time = 0.09s\n",
      "Iteration 18, likelihood = 15.621, time = 0.09s\n",
      "Iteration 19, likelihood = 15.592, time = 0.09s\n",
      "Iteration 20, likelihood = 15.529, time = 0.09s\n",
      "Iteration 21, likelihood = 15.484, time = 0.09s\n",
      "Iteration 22, likelihood = 15.458, time = 0.10s\n",
      "Iteration 23, likelihood = 15.438, time = 0.10s\n",
      "Iteration 24, likelihood = 15.418, time = 0.12s\n",
      "Iteration 25, likelihood = 15.341, time = 0.13s\n",
      "Iteration 26, likelihood = 15.279, time = 0.13s\n",
      "Iteration 27, likelihood = 15.231, time = 0.10s\n",
      "Iteration 28, likelihood = 15.200, time = 0.10s\n",
      "Iteration 29, likelihood = 15.166, time = 0.09s\n",
      "Iteration 30, likelihood = 15.128, time = 0.09s\n"
     ]
    },
    {
     "data": {
      "text/plain": [
       "<tensornetworks.ComplexLPS.ComplexLPS instance at 0x0000000006FDBC48>"
      ]
     },
     "execution_count": 33,
     "metadata": {},
     "output_type": "execute_result"
    }
   ],
   "source": [
    "mps2.fit(X)"
   ]
  },
  {
   "cell_type": "markdown",
   "metadata": {},
   "source": [
    "Finally evaluate the negative log-likelihood of the fitted model."
   ]
  },
  {
   "cell_type": "code",
   "execution_count": 34,
   "metadata": {
    "collapsed": false
   },
   "outputs": [
    {
     "data": {
      "text/plain": [
       "15.127707380427426"
      ]
     },
     "execution_count": 34,
     "metadata": {},
     "output_type": "execute_result"
    }
   ],
   "source": [
    "mps2.likelihood(X)"
   ]
  }
 ],
 "metadata": {
  "anaconda-cloud": {},
  "celltoolbar": "Raw Cell Format",
  "kernelspec": {
   "display_name": "Python [conda root]",
   "language": "python",
   "name": "conda-root-py"
  },
  "language_info": {
   "codemirror_mode": {
    "name": "ipython",
    "version": 2
   },
   "file_extension": ".py",
   "mimetype": "text/x-python",
   "name": "python",
   "nbconvert_exporter": "python",
   "pygments_lexer": "ipython2",
   "version": "2.7.13"
  }
 },
 "nbformat": 4,
 "nbformat_minor": 2
}
