{
 "cells": [
  {
   "cell_type": "markdown",
   "metadata": {},
   "source": [
    "# Training tensor networks to approximate the distribution given by a dataset\n",
    "Simple notebook demonstrating how to train a tensor network to learn the distribution of a dataset."
   ]
  },
  {
   "cell_type": "markdown",
   "metadata": {},
   "source": [
    "First import the dependencies and a tensor network model."
   ]
  },
  {
   "cell_type": "code",
   "execution_count": 1,
   "metadata": {
    "collapsed": false
   },
   "outputs": [],
   "source": [
    "import numpy as np\n",
    "import pickle\n",
    "from tensornetworks.RealBorn import RealBorn"
   ]
  },
  {
   "cell_type": "markdown",
   "metadata": {},
   "source": [
    "Now load a dataset. A dataset needs to be an integer numpy array, with each row corresponding to a training example and each column to a categorical variable taking values in 0 to d-1."
   ]
  },
  {
   "cell_type": "code",
   "execution_count": 2,
   "metadata": {
    "collapsed": false
   },
   "outputs": [],
   "source": [
    "with open('datasets/lymphography', 'rb') as f:\n",
    "        a=pickle.load(f)\n",
    "X=a[0]\n",
    "X=X.astype(int)"
   ]
  },
  {
   "cell_type": "markdown",
   "metadata": {},
   "source": [
    "Create a tensor network model (here we use a real Born machine) with bond dimension 2. Specify a learning rate, size of batch and number of epochs of training. Use 'verbose=True' to print the details during training."
   ]
  },
  {
   "cell_type": "code",
   "execution_count": 3,
   "metadata": {
    "collapsed": false
   },
   "outputs": [],
   "source": [
    "mps = RealBorn(D=2, learning_rate=0.5, batch_size=20, n_iter=30, verbose=True) "
   ]
  },
  {
   "cell_type": "markdown",
   "metadata": {},
   "source": [
    "Fit the model to the data"
   ]
  },
  {
   "cell_type": "code",
   "execution_count": 4,
   "metadata": {
    "collapsed": false
   },
   "outputs": [
    {
     "name": "stdout",
     "output_type": "stream",
     "text": [
      "Iteration 1, likelihood = 23.837, time = 0.04s\n",
      "Iteration 2, likelihood = 20.805, time = 0.07s\n",
      "Iteration 3, likelihood = 19.513, time = 0.05s\n",
      "Iteration 4, likelihood = 19.283, time = 0.05s\n",
      "Iteration 5, likelihood = 25.557, time = 0.06s\n",
      "Iteration 6, likelihood = 23.801, time = 0.05s\n",
      "Iteration 7, likelihood = 23.066, time = 0.05s\n",
      "Iteration 8, likelihood = 25.314, time = 0.05s\n",
      "Iteration 9, likelihood = 24.349, time = 0.04s\n",
      "Iteration 10, likelihood = 23.683, time = 0.07s\n",
      "Iteration 11, likelihood = 27.195, time = 0.05s\n",
      "Iteration 12, likelihood = 23.578, time = 0.05s\n",
      "Iteration 13, likelihood = 36.560, time = 0.05s\n",
      "Iteration 14, likelihood = 31.045, time = 0.05s\n",
      "Iteration 15, likelihood = 33.675, time = 0.06s\n",
      "Iteration 16, likelihood = 30.940, time = 0.05s\n",
      "Iteration 17, likelihood = 30.412, time = 0.06s\n",
      "Iteration 18, likelihood = 28.505, time = 0.05s\n",
      "Iteration 19, likelihood = 28.056, time = 0.05s\n",
      "Iteration 20, likelihood = 25.064, time = 0.05s\n",
      "Iteration 21, likelihood = 26.389, time = 0.06s\n",
      "Iteration 22, likelihood = 28.920, time = 0.04s\n",
      "Iteration 23, likelihood = 27.188, time = 0.06s\n",
      "Iteration 24, likelihood = 23.952, time = 0.08s\n",
      "Iteration 25, likelihood = 25.360, time = 0.04s\n",
      "Iteration 26, likelihood = 24.866, time = 0.04s\n",
      "Iteration 27, likelihood = 26.688, time = 0.04s\n",
      "Iteration 28, likelihood = 21.780, time = 0.06s\n",
      "Iteration 29, likelihood = 22.830, time = 0.04s\n",
      "Iteration 30, likelihood = 25.733, time = 0.04s\n"
     ]
    },
    {
     "data": {
      "text/plain": [
       "<tensornetworks.RealBorn.RealBorn instance at 0x00000000088B1EC8>"
      ]
     },
     "execution_count": 4,
     "metadata": {},
     "output_type": "execute_result"
    }
   ],
   "source": [
    "mps.fit(X)"
   ]
  },
  {
   "cell_type": "markdown",
   "metadata": {},
   "source": [
    "Finally evaluate the negative log-likelihood of the fitted model."
   ]
  },
  {
   "cell_type": "code",
   "execution_count": 5,
   "metadata": {
    "collapsed": false
   },
   "outputs": [
    {
     "data": {
      "text/plain": [
       "25.733229317460889"
      ]
     },
     "execution_count": 5,
     "metadata": {},
     "output_type": "execute_result"
    }
   ],
   "source": [
    "mps.likelihood(X)"
   ]
  },
  {
   "cell_type": "markdown",
   "metadata": {},
   "source": [
    "Now create a tensor network model which is a complex LPS with bond dimension 2 and purification leg of size 2."
   ]
  },
  {
   "cell_type": "code",
   "execution_count": 6,
   "metadata": {
    "collapsed": true
   },
   "outputs": [],
   "source": [
    "from tensornetworks.ComplexLPS import ComplexLPS\n",
    "mps2 = ComplexLPS(D=2, learning_rate=0.5, batch_size=20, n_iter=30, verbose=True, mu=2) "
   ]
  },
  {
   "cell_type": "markdown",
   "metadata": {},
   "source": [
    "Fit the model to the data"
   ]
  },
  {
   "cell_type": "code",
   "execution_count": 7,
   "metadata": {
    "collapsed": false
   },
   "outputs": [
    {
     "name": "stdout",
     "output_type": "stream",
     "text": [
      "Iteration 1, likelihood = 31.115, time = 0.05s\n",
      "Iteration 2, likelihood = 26.320, time = 0.09s\n",
      "Iteration 3, likelihood = 23.149, time = 0.09s\n",
      "Iteration 4, likelihood = 21.144, time = 0.09s\n",
      "Iteration 5, likelihood = 19.725, time = 0.09s\n",
      "Iteration 6, likelihood = 18.726, time = 0.09s\n",
      "Iteration 7, likelihood = 18.040, time = 0.10s\n",
      "Iteration 8, likelihood = 17.507, time = 0.12s\n",
      "Iteration 9, likelihood = 17.123, time = 0.10s\n",
      "Iteration 10, likelihood = 16.778, time = 0.10s\n",
      "Iteration 11, likelihood = 16.524, time = 0.09s\n",
      "Iteration 12, likelihood = 16.303, time = 0.09s\n",
      "Iteration 13, likelihood = 16.136, time = 0.10s\n",
      "Iteration 14, likelihood = 15.996, time = 0.09s\n",
      "Iteration 15, likelihood = 15.859, time = 0.09s\n",
      "Iteration 16, likelihood = 15.735, time = 0.09s\n",
      "Iteration 17, likelihood = 15.663, time = 0.09s\n",
      "Iteration 18, likelihood = 15.586, time = 0.09s\n",
      "Iteration 19, likelihood = 15.533, time = 0.11s\n",
      "Iteration 20, likelihood = 15.472, time = 0.09s\n",
      "Iteration 21, likelihood = 15.448, time = 0.10s\n",
      "Iteration 22, likelihood = 15.385, time = 0.11s\n",
      "Iteration 23, likelihood = 15.343, time = 0.09s\n",
      "Iteration 24, likelihood = 15.335, time = 0.09s\n",
      "Iteration 25, likelihood = 15.305, time = 0.10s\n",
      "Iteration 26, likelihood = 15.241, time = 0.09s\n",
      "Iteration 27, likelihood = 15.203, time = 0.09s\n",
      "Iteration 28, likelihood = 15.147, time = 0.09s\n",
      "Iteration 29, likelihood = 15.102, time = 0.09s\n",
      "Iteration 30, likelihood = 15.069, time = 0.09s\n"
     ]
    },
    {
     "data": {
      "text/plain": [
       "<tensornetworks.ComplexLPS.ComplexLPS instance at 0x00000000088B1908>"
      ]
     },
     "execution_count": 7,
     "metadata": {},
     "output_type": "execute_result"
    }
   ],
   "source": [
    "mps2.fit(X)"
   ]
  },
  {
   "cell_type": "markdown",
   "metadata": {},
   "source": [
    "Finally evaluate the negative log-likelihood of the fitted model."
   ]
  },
  {
   "cell_type": "code",
   "execution_count": 8,
   "metadata": {
    "collapsed": false
   },
   "outputs": [
    {
     "data": {
      "text/plain": [
       "15.069216469897441"
      ]
     },
     "execution_count": 8,
     "metadata": {},
     "output_type": "execute_result"
    }
   ],
   "source": [
    "mps2.likelihood(X)"
   ]
  }
 ],
 "metadata": {
  "anaconda-cloud": {},
  "celltoolbar": "Raw Cell Format",
  "kernelspec": {
   "display_name": "Python [conda root]",
   "language": "python",
   "name": "conda-root-py"
  },
  "language_info": {
   "codemirror_mode": {
    "name": "ipython",
    "version": 2
   },
   "file_extension": ".py",
   "mimetype": "text/x-python",
   "name": "python",
   "nbconvert_exporter": "python",
   "pygments_lexer": "ipython2",
   "version": "2.7.13"
  }
 },
 "nbformat": 4,
 "nbformat_minor": 2
}
