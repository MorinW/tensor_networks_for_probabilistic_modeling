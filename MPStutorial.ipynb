{
 "cells": [
  {
   "cell_type": "markdown",
   "metadata": {},
   "source": [
    "# Probabilistic modelling with tensor networks\n",
    "Simple notebook explaining how to train a tensor network to represent a dataset."
   ]
  },
  {
   "cell_type": "markdown",
   "metadata": {},
   "source": [
    "First import the dependencies and a tensor network model."
   ]
  },
  {
   "cell_type": "code",
   "execution_count": 1,
   "metadata": {
    "collapsed": false
   },
   "outputs": [],
   "source": [
    "import numpy as np\n",
    "import pickle\n",
    "from tensornetworks.ComplexMPSSquare import ComplexMPSSquare"
   ]
  },
  {
   "cell_type": "markdown",
   "metadata": {},
   "source": [
    "Now load a dataset. A dataset needs to be an integer numpy array."
   ]
  },
  {
   "cell_type": "code",
   "execution_count": 2,
   "metadata": {
    "collapsed": false
   },
   "outputs": [],
   "source": [
    "with open('datasets/lymphography', 'rb') as f:\n",
    "        a=pickle.load(f)\n",
    "X=a[0]\n",
    "X=X.astype(int)"
   ]
  },
  {
   "cell_type": "markdown",
   "metadata": {},
   "source": [
    "Create a MPS model (here we use a complex MPS squared) with bond dimension 2. Specify a learning rate, size of batch and number of epochs of training. Use 'verbose=True' to print the details during training."
   ]
  },
  {
   "cell_type": "code",
   "execution_count": 3,
   "metadata": {
    "collapsed": false
   },
   "outputs": [],
   "source": [
    "mps = ComplexMPSSquare(D=2, learning_rate=0.5, batch_size=20, n_iter=30, verbose=True) "
   ]
  },
  {
   "cell_type": "markdown",
   "metadata": {},
   "source": [
    "Fit the model to the data"
   ]
  },
  {
   "cell_type": "code",
   "execution_count": 6,
   "metadata": {
    "collapsed": false
   },
   "outputs": [
    {
     "name": "stdout",
     "output_type": "stream",
     "text": [
      "Iteration 1, likelihood = 25.129, time = 0.05s\n",
      "Iteration 2, likelihood = 20.832, time = 0.05s\n",
      "Iteration 3, likelihood = 18.565, time = 0.05s\n",
      "Iteration 4, likelihood = 17.411, time = 0.04s\n",
      "Iteration 5, likelihood = 16.738, time = 0.05s\n",
      "Iteration 6, likelihood = 16.278, time = 0.06s\n",
      "Iteration 7, likelihood = 16.001, time = 0.05s\n",
      "Iteration 8, likelihood = 15.815, time = 0.05s\n",
      "Iteration 9, likelihood = 15.685, time = 0.05s\n",
      "Iteration 10, likelihood = 15.618, time = 0.05s\n",
      "Iteration 11, likelihood = 15.574, time = 0.05s\n",
      "Iteration 12, likelihood = 15.490, time = 0.05s\n",
      "Iteration 13, likelihood = 15.449, time = 0.05s\n",
      "Iteration 14, likelihood = 15.452, time = 0.05s\n",
      "Iteration 15, likelihood = 15.331, time = 0.05s\n",
      "Iteration 16, likelihood = 15.203, time = 0.05s\n",
      "Iteration 17, likelihood = 15.109, time = 0.05s\n",
      "Iteration 18, likelihood = 15.079, time = 0.04s\n",
      "Iteration 19, likelihood = 15.058, time = 0.05s\n",
      "Iteration 20, likelihood = 15.026, time = 0.04s\n",
      "Iteration 21, likelihood = 14.946, time = 0.05s\n",
      "Iteration 22, likelihood = 14.945, time = 0.05s\n",
      "Iteration 23, likelihood = 14.902, time = 0.05s\n",
      "Iteration 24, likelihood = 14.889, time = 0.05s\n",
      "Iteration 25, likelihood = 14.926, time = 0.05s\n",
      "Iteration 26, likelihood = 14.937, time = 0.06s\n",
      "Iteration 27, likelihood = 14.857, time = 0.05s\n",
      "Iteration 28, likelihood = 14.893, time = 0.05s\n",
      "Iteration 29, likelihood = 14.796, time = 0.05s\n",
      "Iteration 30, likelihood = 14.812, time = 0.05s\n"
     ]
    },
    {
     "data": {
      "text/plain": [
       "<tensornetworks.ComplexMPSSquare.ComplexMPSSquare instance at 0x0000000006EEBE08>"
      ]
     },
     "execution_count": 6,
     "metadata": {},
     "output_type": "execute_result"
    }
   ],
   "source": [
    "mps.fit(X)"
   ]
  },
  {
   "cell_type": "markdown",
   "metadata": {},
   "source": [
    "Finally evaluate the negative log-likelihood of the fitted model."
   ]
  },
  {
   "cell_type": "code",
   "execution_count": 7,
   "metadata": {
    "collapsed": false
   },
   "outputs": [
    {
     "data": {
      "text/plain": [
       "14.81233858147869"
      ]
     },
     "execution_count": 7,
     "metadata": {},
     "output_type": "execute_result"
    }
   ],
   "source": [
    "mps.likelihood(X)"
   ]
  }
 ],
 "metadata": {
  "anaconda-cloud": {},
  "celltoolbar": "Raw Cell Format",
  "kernelspec": {
   "display_name": "Python [conda root]",
   "language": "python",
   "name": "conda-root-py"
  },
  "language_info": {
   "codemirror_mode": {
    "name": "ipython",
    "version": 2
   },
   "file_extension": ".py",
   "mimetype": "text/x-python",
   "name": "python",
   "nbconvert_exporter": "python",
   "pygments_lexer": "ipython2",
   "version": "2.7.13"
  }
 },
 "nbformat": 4,
 "nbformat_minor": 2
}
