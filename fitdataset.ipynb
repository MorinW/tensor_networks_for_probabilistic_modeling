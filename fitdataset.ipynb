{
 "cells": [
  {
   "cell_type": "markdown",
   "metadata": {},
   "source": [
    "# Training tensor networks to approximate the distribution given by a dataset\n",
    "Simple notebook demonstrating how to train a tensor network to learn the distribution of a dataset."
   ]
  },
  {
   "cell_type": "markdown",
   "metadata": {},
   "source": [
    "First import the dependencies and a tensor network model."
   ]
  },
  {
   "cell_type": "code",
   "execution_count": 1,
   "metadata": {
    "collapsed": false
   },
   "outputs": [],
   "source": [
    "import numpy as np\n",
    "import pickle\n",
    "from tensornetworks.PositiveMPS import PositiveMPS\n",
    "from tensornetworks.RealBorn import RealBorn\n",
    "from tensornetworks.ComplexBorn import ComplexBorn\n",
    "from tensornetworks.RealLPS import RealLPS\n",
    "from tensornetworks.ComplexLPS import ComplexLPS"
   ]
  },
  {
   "cell_type": "markdown",
   "metadata": {},
   "source": [
    "Now load a dataset. A dataset needs to be an integer numpy array, with each row corresponding to a training example and each column to a categorical variable taking values in 0 to d-1."
   ]
  },
  {
   "cell_type": "code",
   "execution_count": 2,
   "metadata": {
    "collapsed": false
   },
   "outputs": [],
   "source": [
    "with open('datasets/lymphography', 'rb') as f:\n",
    "        a=pickle.load(f)\n",
    "X=a[0]\n",
    "X=X.astype(int)"
   ]
  },
  {
   "cell_type": "markdown",
   "metadata": {},
   "source": [
    "Create a tensor network model (here we use a real Born machine) with bond dimension 2. Specify a learning rate, size of batch and number of epochs of training. Use 'verbose=True' to print the details during training."
   ]
  },
  {
   "cell_type": "code",
   "execution_count": 3,
   "metadata": {
    "collapsed": false
   },
   "outputs": [],
   "source": [
    "mps = RealBorn(D=2, learning_rate=0.2, batch_size=20, n_iter=30, verbose=True) "
   ]
  },
  {
   "cell_type": "markdown",
   "metadata": {},
   "source": [
    "Fit the model to the data"
   ]
  },
  {
   "cell_type": "code",
   "execution_count": 4,
   "metadata": {
    "collapsed": false
   },
   "outputs": [
    {
     "name": "stdout",
     "output_type": "stream",
     "text": [
      "Iteration 1, likelihood = 26.820, time = 0.24s\n",
      "Iteration 2, likelihood = 21.811, time = 0.23s\n",
      "Iteration 3, likelihood = 19.467, time = 0.27s\n",
      "Iteration 4, likelihood = 18.320, time = 0.25s\n",
      "Iteration 5, likelihood = 17.542, time = 0.23s\n",
      "Iteration 6, likelihood = 17.621, time = 0.20s\n",
      "Iteration 7, likelihood = 17.561, time = 0.21s\n",
      "Iteration 8, likelihood = 17.001, time = 0.21s\n",
      "Iteration 9, likelihood = 16.481, time = 0.21s\n",
      "Iteration 10, likelihood = 16.209, time = 0.23s\n",
      "Iteration 11, likelihood = 15.964, time = 0.21s\n",
      "Iteration 12, likelihood = 15.826, time = 0.22s\n",
      "Iteration 13, likelihood = 15.704, time = 0.21s\n",
      "Iteration 14, likelihood = 15.628, time = 0.19s\n",
      "Iteration 15, likelihood = 15.411, time = 0.19s\n",
      "Iteration 16, likelihood = 15.338, time = 0.18s\n",
      "Iteration 17, likelihood = 15.296, time = 0.23s\n",
      "Iteration 18, likelihood = 15.252, time = 0.18s\n",
      "Iteration 19, likelihood = 15.222, time = 0.21s\n",
      "Iteration 20, likelihood = 15.209, time = 0.24s\n",
      "Iteration 21, likelihood = 15.149, time = 0.23s\n",
      "Iteration 22, likelihood = 15.159, time = 0.24s\n",
      "Iteration 23, likelihood = 15.086, time = 0.20s\n",
      "Iteration 24, likelihood = 15.070, time = 0.21s\n",
      "Iteration 25, likelihood = 14.991, time = 0.18s\n",
      "Iteration 26, likelihood = 15.018, time = 0.20s\n",
      "Iteration 27, likelihood = 14.937, time = 0.17s\n",
      "Iteration 28, likelihood = 14.968, time = 0.24s\n",
      "Iteration 29, likelihood = 14.867, time = 0.19s\n",
      "Iteration 30, likelihood = 14.870, time = 0.20s\n"
     ]
    },
    {
     "data": {
      "text/plain": [
       "<tensornetworks.RealBorn.RealBorn instance at 0x0000000008C3C1C8>"
      ]
     },
     "execution_count": 4,
     "metadata": {},
     "output_type": "execute_result"
    }
   ],
   "source": [
    "mps.fit(X)"
   ]
  },
  {
   "cell_type": "markdown",
   "metadata": {},
   "source": [
    "Finally evaluate the negative log-likelihood of the fitted model."
   ]
  },
  {
   "cell_type": "code",
   "execution_count": 5,
   "metadata": {
    "collapsed": false
   },
   "outputs": [
    {
     "data": {
      "text/plain": [
       "14.869611163267741"
      ]
     },
     "execution_count": 5,
     "metadata": {},
     "output_type": "execute_result"
    }
   ],
   "source": [
    "mps.likelihood(X)"
   ]
  },
  {
   "cell_type": "markdown",
   "metadata": {},
   "source": [
    "Now create a tensor network model which is a complex LPS with bond dimension 2 and purification dimension of 2."
   ]
  },
  {
   "cell_type": "code",
   "execution_count": 6,
   "metadata": {
    "collapsed": true
   },
   "outputs": [],
   "source": [
    "mps2 = ComplexLPS(D=2, learning_rate=0.5, batch_size=20, n_iter=30, verbose=True, mu=2) "
   ]
  },
  {
   "cell_type": "markdown",
   "metadata": {},
   "source": [
    "Fit the model to the data"
   ]
  },
  {
   "cell_type": "code",
   "execution_count": 7,
   "metadata": {
    "collapsed": false
   },
   "outputs": [
    {
     "name": "stdout",
     "output_type": "stream",
     "text": [
      "Iteration 1, likelihood = 30.569, time = 0.24s\n",
      "Iteration 2, likelihood = 25.780, time = 0.42s\n",
      "Iteration 3, likelihood = 22.945, time = 0.44s\n",
      "Iteration 4, likelihood = 21.134, time = 0.37s\n",
      "Iteration 5, likelihood = 19.839, time = 0.39s\n",
      "Iteration 6, likelihood = 18.927, time = 0.47s\n",
      "Iteration 7, likelihood = 18.204, time = 0.43s\n",
      "Iteration 8, likelihood = 17.725, time = 0.41s\n",
      "Iteration 9, likelihood = 17.249, time = 0.39s\n",
      "Iteration 10, likelihood = 16.887, time = 0.45s\n",
      "Iteration 11, likelihood = 16.615, time = 0.45s\n",
      "Iteration 12, likelihood = 16.409, time = 0.41s\n",
      "Iteration 13, likelihood = 16.209, time = 0.55s\n",
      "Iteration 14, likelihood = 16.068, time = 0.45s\n",
      "Iteration 15, likelihood = 15.951, time = 0.67s\n",
      "Iteration 16, likelihood = 15.867, time = 0.52s\n",
      "Iteration 17, likelihood = 15.798, time = 0.52s\n",
      "Iteration 18, likelihood = 15.719, time = 0.58s\n",
      "Iteration 19, likelihood = 15.627, time = 0.49s\n",
      "Iteration 20, likelihood = 15.558, time = 0.56s\n",
      "Iteration 21, likelihood = 15.512, time = 0.59s\n",
      "Iteration 22, likelihood = 15.468, time = 0.55s\n",
      "Iteration 23, likelihood = 15.458, time = 0.51s\n",
      "Iteration 24, likelihood = 15.448, time = 0.56s\n",
      "Iteration 25, likelihood = 15.364, time = 0.60s\n",
      "Iteration 26, likelihood = 15.266, time = 0.58s\n",
      "Iteration 27, likelihood = 15.228, time = 0.53s\n",
      "Iteration 28, likelihood = 15.212, time = 0.58s\n",
      "Iteration 29, likelihood = 15.183, time = 0.56s\n",
      "Iteration 30, likelihood = 15.181, time = 0.53s\n"
     ]
    },
    {
     "data": {
      "text/plain": [
       "<tensornetworks.ComplexLPS.ComplexLPS instance at 0x0000000008C35108>"
      ]
     },
     "execution_count": 7,
     "metadata": {},
     "output_type": "execute_result"
    }
   ],
   "source": [
    "mps2.fit(X)"
   ]
  },
  {
   "cell_type": "markdown",
   "metadata": {},
   "source": [
    "Finally evaluate the negative log-likelihood of the fitted model."
   ]
  },
  {
   "cell_type": "code",
   "execution_count": 8,
   "metadata": {
    "collapsed": false
   },
   "outputs": [
    {
     "data": {
      "text/plain": [
       "15.181376744658168"
      ]
     },
     "execution_count": 8,
     "metadata": {},
     "output_type": "execute_result"
    }
   ],
   "source": [
    "mps2.likelihood(X)"
   ]
  }
 ],
 "metadata": {
  "anaconda-cloud": {},
  "celltoolbar": "Raw Cell Format",
  "kernelspec": {
   "display_name": "Python [conda root]",
   "language": "python",
   "name": "conda-root-py"
  },
  "language_info": {
   "codemirror_mode": {
    "name": "ipython",
    "version": 2
   },
   "file_extension": ".py",
   "mimetype": "text/x-python",
   "name": "python",
   "nbconvert_exporter": "python",
   "pygments_lexer": "ipython2",
   "version": "2.7.13"
  }
 },
 "nbformat": 4,
 "nbformat_minor": 2
}
